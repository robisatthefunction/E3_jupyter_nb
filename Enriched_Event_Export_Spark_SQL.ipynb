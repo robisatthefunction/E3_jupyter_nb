{
 "cells": [
  {
   "cell_type": "markdown",
   "metadata": {},
   "source": [
    "# Working with Enriched Events data\n",
    "\n",
    "In this Lab we'll learn how to work with [Enriched Event data](https://docs.developers.optimizely.com/web/docs/enriched-events-export) using [PySpark](http://spark.apache.org/docs/latest/api/python/index.html) and [Spark SQL](http://spark.apache.org/sql/).\n",
    "\n",
    "This lab contains a set of simple, useful queries for working with this dataset.  These queries can help you answer questions like\n",
    "- How many visitors were tested in my experiment?\n",
    "- How many \"unique conversions\" of an event were attributed to this variation?\n",
    "\n",
    "This Lab covers some of the basics of working with event-level experiment data. There are many more useful questions may want to answer with experiment data.  Future tutorials will go deeper on the topic.\n",
    "\n",
    "This guide borrows some initialization code from the [Spark SQL getting started guide](https://spark.apache.org/docs/latest/sql-getting-started.html)."
   ]
  },
  {
   "cell_type": "markdown",
   "metadata": {},
   "source": [
    "## Import your packages"
   ]
  },
  {
   "cell_type": "code",
   "execution_count": 1,
   "metadata": {},
   "outputs": [],
   "source": [
    "import numpy as np \n",
    "import pandas as pd \n",
    "import matplotlib.pyplot as plt \n",
    "import os\n",
    "import pyspark\n",
    "from itertools import product\n",
    "from pyspark.sql import SparkSession\n",
    "\n",
    "spark = SparkSession \\\n",
    "    .builder \\\n",
    "    .appName(\"Python Spark SQL\") \\\n",
    "    .config(\"spark.sql.repl.eagerEval.enabled\", True) \\\n",
    "    .config(\"spark.sql.repl.eagerEval.truncate\", 100) \\\n",
    "    .getOrCreate()"
   ]
  },
  {
   "cell_type": "markdown",
   "metadata": {},
   "source": [
    "## Set your main variables\n",
    "**Token**: API Token taken from Optimizely, follow instructions [here](https://help.optimizely.com/Integrate_Other_Platforms/Generate_a_personal_access_token_in_Optimizely_X_Web)<br>\n",
    "**Experiment**: List of experiment ID's you wish to analyze, <ins>if empty will analyze all experiments within a project</ins><br>\n",
    "**Start_time**: Start date of results analysis. \"YYYY-MM-DD\" <br>\n",
    "**End_time**: End date of results analysis. \"YYYY-MM-DD\" <br>\n",
    "**Event_list**: A list of events you want to analyze, <ins>if empty will analyze all events received<ins><br>\n",
    "**Output_file_path**: Path you want to export the data to. "
   ]
  },
  {
   "cell_type": "code",
   "execution_count": 4,
   "metadata": {},
   "outputs": [],
   "source": [
    "token = ''\n",
    "\n",
    "experiment_list = ['experimentId here']\n",
    "\n",
    "start_time = 'YYYY-MM-DD'\n",
    "end_time = 'YYYY-MM-DD'\n",
    "\n",
    "event_list = ['event name here']\n",
    "\n",
    "output_file_path = '/nameOfFile';\n",
    "\n",
    "output_dir = os.getcwd() + output_file_path"
   ]
  },
  {
   "cell_type": "markdown",
   "metadata": {},
   "source": [
    "## Bash Script to Download Decisions"
   ]
  },
  {
   "cell_type": "code",
   "execution_count": 5,
   "metadata": {},
   "outputs": [
    {
     "name": "stdout",
     "output_type": "stream",
     "text": [
      "download: s3://optimizely-events-data/v1/account_id=8253175392/type=decisions/date=2021-09-02/experiment=9300000009180/part-00000-c72736c5-36f7-4f0c-8374-2bfa2addab51.c000.snappy.parquet to autoShortForm/type=decisions/date=2021-09-02/experiment=9300000009180/part-00000-c72736c5-36f7-4f0c-8374-2bfa2addab51.c000.snappy.parquet\n"
     ]
    }
   ],
   "source": [
    "%%bash -s \"$token\" \"{\" \".join(experiment_list)}\" \"$start_time\" \"$end_time\" \"$output_dir\"\n",
    "\n",
    "if [[ -z $2 ]]; then\n",
    "oevents load \\\n",
    "    --token $1 \\\n",
    "    --type decisions \\\n",
    "    --start $3 \\\n",
    "    --end $4 \\\n",
    "    --output $5\n",
    "else\n",
    "for e in $2\n",
    "do\n",
    "oevents load \\\n",
    "    --token $1 \\\n",
    "    --type decisions \\\n",
    "    --start $3 \\\n",
    "    --end $4 \\\n",
    "    --experiment $e \\\n",
    "    --output $5\n",
    "done\n",
    "fi\n"
   ]
  },
  {
   "cell_type": "markdown",
   "metadata": {},
   "source": [
    "## Bash Script to Download Events"
   ]
  },
  {
   "cell_type": "code",
   "execution_count": 4,
   "metadata": {},
   "outputs": [],
   "source": [
    "%%bash -s \"$token\" \"{\" \".join(event_list)}\" \"$start_time\" \"$end_time\" \"$output_dir\"\n",
    "if [[ -z $2 ]]; then\n",
    "oevents load \\\n",
    "    --token $1 \\\n",
    "    --type events \\\n",
    "    --start $3 \\\n",
    "    --end $4 \\\n",
    "    --output $5\n",
    "else\n",
    "for e in $2\n",
    "do\n",
    "oevents load \\\n",
    "    --token $1 \\\n",
    "    --type events \\\n",
    "    --start $3 \\\n",
    "    --end $4 \\\n",
    "    --event $e \\\n",
    "    --output $5\n",
    "done\n",
    "fi"
   ]
  },
  {
   "cell_type": "markdown",
   "metadata": {},
   "source": [
    "## Loading Enriched Event Data into Notebook\n",
    "\n",
    "The `OPTIMIZELY_DATA_DIR` environment variable may be used to specify the local directory where Enriched Event data is stored.  If, for example, you've [downloaded Enriched Event data](https://docs.developers.optimizely.com/optimizely-data/docs/enriched-events-getting-started) and saved it in `optimizely_data` in your home directory, you can load that data in this notebook by executing the following command before launching Jupyter Lab:\n",
    "\n",
    "```\n",
    "$ export OPTIMIZELY_DATA_DIR=~/optimizely_data\n",
    "```\n",
    "\n",
    "If `OPTIMIZELY_DATA_DIR` is not set, data will be loaded from `./data` in your working directory."
   ]
  },
  {
   "cell_type": "code",
   "execution_count": 6,
   "metadata": {},
   "outputs": [],
   "source": [
    "base_data_dir = os.environ.get(\"OPTIMIZELY_DATA_DIR\", \"nameOfFile\")\n",
    "\n",
    "def read_data(path, view_name):\n",
    "    \"\"\"Read parquet data from the supplied path and create a corresponding temporary view with Spark.\"\"\"\n",
    "    spark.read.parquet(path).createOrReplaceTempView(view_name)"
   ]
  },
  {
   "cell_type": "code",
   "execution_count": 7,
   "metadata": {},
   "outputs": [],
   "source": [
    "decisions_dir = os.path.join(base_data_dir, \"type=decisions\")\n",
    "read_data(decisions_dir, \"decisions\")"
   ]
  },
  {
   "cell_type": "code",
   "execution_count": 8,
   "metadata": {},
   "outputs": [
    {
     "data": {
      "text/html": [
       "<table border='1'>\n",
       "<tr><th>uuid</th><th>timestamp</th><th>process_timestamp</th><th>visitor_id</th><th>session_id</th><th>account_id</th><th>campaign_id</th><th>experiment_id</th><th>variation_id</th><th>attributes</th><th>user_ip</th><th>user_agent</th><th>referer</th><th>is_holdback</th><th>revision</th><th>client_engine</th><th>client_version</th><th>date</th><th>experiment</th></tr>\n",
       "<tr><td>5be5dadf-4daa-45dd-8fb0-45009be70e48</td><td>2021-09-01 13:54:49.915</td><td>2021-09-01 13:55:20.336</td><td>02548cad-4fd3-4fe7-b65c-3c17f3f369ec</td><td>-1391194159</td><td>8253175392</td><td>9300000009180</td><td>9300000009180</td><td>6555</td><td>[{20360686443, flow, custom, FLOW.SHORT}, {$opt_bot_filtering, $opt_bot_filtering, custom, false}...</td><td>73.8.206.0</td><td>Mozilla/5.0 (Windows NT 10.0; Win64; x64) AppleWebKit/537.36 (KHTML, like Gecko) Chrome/92.0.4515...</td><td>https://www.costcochoice.com/</td><td>false</td><td>336</td><td>javascript-sdk</td><td>4.5.1</td><td>2021-09-01</td><td>9300000009180</td></tr>\n",
       "</table>\n"
      ],
      "text/plain": [
       "+------------------------------------+-----------------------+-----------------------+------------------------------------+-----------+----------+-------------+-------------+------------+----------------------------------------------------------------------------------------------------+----------+----------------------------------------------------------------------------------------------------+-----------------------------+-----------+--------+--------------+--------------+----------+-------------+\n",
       "|                                uuid|              timestamp|      process_timestamp|                          visitor_id| session_id|account_id|  campaign_id|experiment_id|variation_id|                                                                                          attributes|   user_ip|                                                                                          user_agent|                      referer|is_holdback|revision| client_engine|client_version|      date|   experiment|\n",
       "+------------------------------------+-----------------------+-----------------------+------------------------------------+-----------+----------+-------------+-------------+------------+----------------------------------------------------------------------------------------------------+----------+----------------------------------------------------------------------------------------------------+-----------------------------+-----------+--------+--------------+--------------+----------+-------------+\n",
       "|5be5dadf-4daa-45dd-8fb0-45009be70e48|2021-09-01 13:54:49.915|2021-09-01 13:55:20.336|02548cad-4fd3-4fe7-b65c-3c17f3f369ec|-1391194159|8253175392|9300000009180|9300000009180|        6555|[{20360686443, flow, custom, FLOW.SHORT}, {$opt_bot_filtering, $opt_bot_filtering, custom, false}...|73.8.206.0|Mozilla/5.0 (Windows NT 10.0; Win64; x64) AppleWebKit/537.36 (KHTML, like Gecko) Chrome/92.0.4515...|https://www.costcochoice.com/|      false|     336|javascript-sdk|         4.5.1|2021-09-01|9300000009180|\n",
       "+------------------------------------+-----------------------+-----------------------+------------------------------------+-----------+----------+-------------+-------------+------------+----------------------------------------------------------------------------------------------------+----------+----------------------------------------------------------------------------------------------------+-----------------------------+-----------+--------+--------------+--------------+----------+-------------+"
      ]
     },
     "execution_count": 8,
     "metadata": {},
     "output_type": "execute_result"
    }
   ],
   "source": [
    "spark.sql(\"\"\"\n",
    "    SELECT\n",
    "        *\n",
    "    FROM decisions\n",
    "    LIMIT 1\n",
    "\"\"\")\n"
   ]
  },
  {
   "cell_type": "code",
   "execution_count": 16,
   "metadata": {},
   "outputs": [
    {
     "data": {
      "text/html": [
       "<table border='1'>\n",
       "<tr><th>uuid</th><th>timestamp</th><th>process_timestamp</th><th>visitor_id</th><th>session_id</th><th>account_id</th><th>campaign_id</th><th>experiment_id</th><th>variation_id</th><th>attributes</th><th>user_ip</th><th>user_agent</th><th>referer</th><th>is_holdback</th><th>revision</th><th>client_engine</th><th>client_version</th><th>date</th><th>experiment</th></tr>\n",
       "<tr><td>5be5dadf-4daa-45dd-8fb0-45009be70e48</td><td>2021-09-01 13:54:49.915</td><td>2021-09-01 13:55:20.336</td><td>02548cad-4fd3-4fe7-b65c-3c17f3f369ec</td><td>-1391194159</td><td>8253175392</td><td>9300000009180</td><td>9300000009180</td><td>6555</td><td>[{20360686443, flow, custom, FLOW.SHORT}, {$opt_bot_filtering, $opt_bot_filtering, custom, false}...</td><td>73.8.206.0</td><td>Mozilla/5.0 (Windows NT 10.0; Win64; x64) AppleWebKit/537.36 (KHTML, like Gecko) Chrome/92.0.4515...</td><td>https://www.costcochoice.com/</td><td>false</td><td>336</td><td>javascript-sdk</td><td>4.5.1</td><td>2021-09-01</td><td>9300000009180</td></tr>\n",
       "<tr><td>f227c334-e984-41aa-a9a4-4747c4b7bd13</td><td>2021-08-31 20:38:41.855</td><td>2021-08-31 20:39:05.576</td><td>056976f2-84d1-43e6-b849-0b3d5ead57d3</td><td>-1337509197</td><td>8253175392</td><td>9300000009180</td><td>9300000009180</td><td>6555</td><td>[{20360686443, flow, custom, FLOW.SHORT}, {$opt_bot_filtering, $opt_bot_filtering, custom, false}...</td><td>24.234.62.0</td><td>Mozilla/5.0 (Windows NT 10.0; Win64; x64) AppleWebKit/537.36 (KHTML, like Gecko) Chrome/92.0.4515...</td><td>https://www.costcochoice.com/</td><td>false</td><td>322</td><td>javascript-sdk</td><td>4.5.1</td><td>2021-09-01</td><td>9300000009180</td></tr>\n",
       "<tr><td>7ea32f35-e724-427f-b31f-58296e8ae1d6</td><td>2021-08-31 20:39:09.537</td><td>2021-08-31 20:40:05.475</td><td>056976f2-84d1-43e6-b849-0b3d5ead57d3</td><td>-1337509197</td><td>8253175392</td><td>9300000009180</td><td>9300000009180</td><td>6555</td><td>[{20360686443, flow, custom, FLOW.SHORT}, {$opt_bot_filtering, $opt_bot_filtering, custom, false}...</td><td>24.234.62.0</td><td>Mozilla/5.0 (Windows NT 10.0; Win64; x64) AppleWebKit/537.36 (KHTML, like Gecko) Chrome/92.0.4515...</td><td>https://www.costcochoice.com/</td><td>false</td><td>322</td><td>javascript-sdk</td><td>4.5.1</td><td>2021-09-01</td><td>9300000009180</td></tr>\n",
       "<tr><td>ecdaed53-c59f-440b-8223-563503c625ad</td><td>2021-08-31 20:39:09.607</td><td>2021-08-31 20:40:05.475</td><td>056976f2-84d1-43e6-b849-0b3d5ead57d3</td><td>-1337509197</td><td>8253175392</td><td>9300000009180</td><td>9300000009180</td><td>6555</td><td>[{20360686443, flow, custom, FLOW.SHORT}, {$opt_bot_filtering, $opt_bot_filtering, custom, false}...</td><td>24.234.62.0</td><td>Mozilla/5.0 (Windows NT 10.0; Win64; x64) AppleWebKit/537.36 (KHTML, like Gecko) Chrome/92.0.4515...</td><td>https://www.costcochoice.com/</td><td>false</td><td>322</td><td>javascript-sdk</td><td>4.5.1</td><td>2021-09-01</td><td>9300000009180</td></tr>\n",
       "<tr><td>8da14434-1abb-4ada-98d8-34bf27232b1c</td><td>2021-08-31 20:39:09.634</td><td>2021-08-31 20:40:05.475</td><td>056976f2-84d1-43e6-b849-0b3d5ead57d3</td><td>-1337509197</td><td>8253175392</td><td>9300000009180</td><td>9300000009180</td><td>6555</td><td>[{20360686443, flow, custom, FLOW.SHORT}, {$opt_bot_filtering, $opt_bot_filtering, custom, false}...</td><td>24.234.62.0</td><td>Mozilla/5.0 (Windows NT 10.0; Win64; x64) AppleWebKit/537.36 (KHTML, like Gecko) Chrome/92.0.4515...</td><td>https://www.costcochoice.com/</td><td>false</td><td>322</td><td>javascript-sdk</td><td>4.5.1</td><td>2021-09-01</td><td>9300000009180</td></tr>\n",
       "<tr><td>c2c0cbf6-16ae-42e2-ad1c-e95f1079e447</td><td>2021-08-31 20:39:10.189</td><td>2021-08-31 20:40:05.475</td><td>056976f2-84d1-43e6-b849-0b3d5ead57d3</td><td>-1337509197</td><td>8253175392</td><td>9300000009180</td><td>9300000009180</td><td>6555</td><td>[{20360686443, flow, custom, FLOW.SHORT}, {$opt_bot_filtering, $opt_bot_filtering, custom, false}...</td><td>24.234.62.0</td><td>Mozilla/5.0 (Windows NT 10.0; Win64; x64) AppleWebKit/537.36 (KHTML, like Gecko) Chrome/92.0.4515...</td><td>https://www.costcochoice.com/</td><td>false</td><td>322</td><td>javascript-sdk</td><td>4.5.1</td><td>2021-09-01</td><td>9300000009180</td></tr>\n",
       "<tr><td>fe0eb371-8e94-4f80-9dac-93d7ac4584b8</td><td>2021-08-31 20:39:10.202</td><td>2021-08-31 20:40:05.475</td><td>056976f2-84d1-43e6-b849-0b3d5ead57d3</td><td>-1337509197</td><td>8253175392</td><td>9300000009180</td><td>9300000009180</td><td>6555</td><td>[{20360686443, flow, custom, FLOW.SHORT}, {$opt_bot_filtering, $opt_bot_filtering, custom, false}...</td><td>24.234.62.0</td><td>Mozilla/5.0 (Windows NT 10.0; Win64; x64) AppleWebKit/537.36 (KHTML, like Gecko) Chrome/92.0.4515...</td><td>https://www.costcochoice.com/</td><td>false</td><td>322</td><td>javascript-sdk</td><td>4.5.1</td><td>2021-09-01</td><td>9300000009180</td></tr>\n",
       "<tr><td>569d8914-f8bb-461f-95ae-f26a3da02d8e</td><td>2021-08-31 20:39:11.598</td><td>2021-08-31 20:40:05.475</td><td>056976f2-84d1-43e6-b849-0b3d5ead57d3</td><td>-1337509197</td><td>8253175392</td><td>9300000009180</td><td>9300000009180</td><td>6555</td><td>[{20360686443, flow, custom, FLOW.SHORT}, {$opt_bot_filtering, $opt_bot_filtering, custom, false}...</td><td>24.234.62.0</td><td>Mozilla/5.0 (Windows NT 10.0; Win64; x64) AppleWebKit/537.36 (KHTML, like Gecko) Chrome/92.0.4515...</td><td>https://www.costcochoice.com/</td><td>false</td><td>322</td><td>javascript-sdk</td><td>4.5.1</td><td>2021-09-01</td><td>9300000009180</td></tr>\n",
       "<tr><td>6f690924-dafd-460f-b823-deecb87ac8f9</td><td>2021-08-31 20:39:11.608</td><td>2021-08-31 20:40:05.475</td><td>056976f2-84d1-43e6-b849-0b3d5ead57d3</td><td>-1337509197</td><td>8253175392</td><td>9300000009180</td><td>9300000009180</td><td>6555</td><td>[{20360686443, flow, custom, FLOW.SHORT}, {$opt_bot_filtering, $opt_bot_filtering, custom, false}...</td><td>24.234.62.0</td><td>Mozilla/5.0 (Windows NT 10.0; Win64; x64) AppleWebKit/537.36 (KHTML, like Gecko) Chrome/92.0.4515...</td><td>https://www.costcochoice.com/</td><td>false</td><td>322</td><td>javascript-sdk</td><td>4.5.1</td><td>2021-09-01</td><td>9300000009180</td></tr>\n",
       "<tr><td>a1e7217f-32a5-4eed-841f-3e5a9d7ea686</td><td>2021-08-31 20:39:12.606</td><td>2021-08-31 20:40:05.475</td><td>056976f2-84d1-43e6-b849-0b3d5ead57d3</td><td>-1337509197</td><td>8253175392</td><td>9300000009180</td><td>9300000009180</td><td>6555</td><td>[{20360686443, flow, custom, FLOW.SHORT}, {$opt_bot_filtering, $opt_bot_filtering, custom, false}...</td><td>24.234.62.0</td><td>Mozilla/5.0 (Windows NT 10.0; Win64; x64) AppleWebKit/537.36 (KHTML, like Gecko) Chrome/92.0.4515...</td><td>https://www.costcochoice.com/</td><td>false</td><td>322</td><td>javascript-sdk</td><td>4.5.1</td><td>2021-09-01</td><td>9300000009180</td></tr>\n",
       "<tr><td>0c904dca-b53a-49aa-8932-ef57ce3511c0</td><td>2021-08-31 20:39:12.612</td><td>2021-08-31 20:40:05.475</td><td>056976f2-84d1-43e6-b849-0b3d5ead57d3</td><td>-1337509197</td><td>8253175392</td><td>9300000009180</td><td>9300000009180</td><td>6555</td><td>[{20360686443, flow, custom, FLOW.SHORT}, {$opt_bot_filtering, $opt_bot_filtering, custom, false}...</td><td>24.234.62.0</td><td>Mozilla/5.0 (Windows NT 10.0; Win64; x64) AppleWebKit/537.36 (KHTML, like Gecko) Chrome/92.0.4515...</td><td>https://www.costcochoice.com/</td><td>false</td><td>322</td><td>javascript-sdk</td><td>4.5.1</td><td>2021-09-01</td><td>9300000009180</td></tr>\n",
       "<tr><td>1196782b-67aa-44f2-9bb2-8d04b3f56b4a</td><td>2021-08-31 20:39:12.616</td><td>2021-08-31 20:40:05.475</td><td>056976f2-84d1-43e6-b849-0b3d5ead57d3</td><td>-1337509197</td><td>8253175392</td><td>9300000009180</td><td>9300000009180</td><td>6555</td><td>[{20360686443, flow, custom, FLOW.SHORT}, {$opt_bot_filtering, $opt_bot_filtering, custom, false}...</td><td>24.234.62.0</td><td>Mozilla/5.0 (Windows NT 10.0; Win64; x64) AppleWebKit/537.36 (KHTML, like Gecko) Chrome/92.0.4515...</td><td>https://www.costcochoice.com/</td><td>false</td><td>322</td><td>javascript-sdk</td><td>4.5.1</td><td>2021-09-01</td><td>9300000009180</td></tr>\n",
       "<tr><td>fac98370-7b52-4770-8f77-4615a71b47b3</td><td>2021-08-31 20:39:12.626</td><td>2021-08-31 20:40:05.475</td><td>056976f2-84d1-43e6-b849-0b3d5ead57d3</td><td>-1337509197</td><td>8253175392</td><td>9300000009180</td><td>9300000009180</td><td>6555</td><td>[{20360686443, flow, custom, FLOW.SHORT}, {$opt_bot_filtering, $opt_bot_filtering, custom, false}...</td><td>24.234.62.0</td><td>Mozilla/5.0 (Windows NT 10.0; Win64; x64) AppleWebKit/537.36 (KHTML, like Gecko) Chrome/92.0.4515...</td><td>https://www.costcochoice.com/</td><td>false</td><td>322</td><td>javascript-sdk</td><td>4.5.1</td><td>2021-09-01</td><td>9300000009180</td></tr>\n",
       "<tr><td>81856044-d886-4b98-86d7-2860794bd686</td><td>2021-08-31 20:39:13.289</td><td>2021-08-31 20:40:05.475</td><td>056976f2-84d1-43e6-b849-0b3d5ead57d3</td><td>-1337509197</td><td>8253175392</td><td>9300000009180</td><td>9300000009180</td><td>6555</td><td>[{20360686443, flow, custom, FLOW.SHORT}, {$opt_bot_filtering, $opt_bot_filtering, custom, false}...</td><td>24.234.62.0</td><td>Mozilla/5.0 (Windows NT 10.0; Win64; x64) AppleWebKit/537.36 (KHTML, like Gecko) Chrome/92.0.4515...</td><td>https://www.costcochoice.com/</td><td>false</td><td>322</td><td>javascript-sdk</td><td>4.5.1</td><td>2021-09-01</td><td>9300000009180</td></tr>\n",
       "<tr><td>af7cc958-cd25-4266-adcb-5cddbf644218</td><td>2021-08-31 20:39:13.298</td><td>2021-08-31 20:40:05.475</td><td>056976f2-84d1-43e6-b849-0b3d5ead57d3</td><td>-1337509197</td><td>8253175392</td><td>9300000009180</td><td>9300000009180</td><td>6555</td><td>[{20360686443, flow, custom, FLOW.SHORT}, {$opt_bot_filtering, $opt_bot_filtering, custom, false}...</td><td>24.234.62.0</td><td>Mozilla/5.0 (Windows NT 10.0; Win64; x64) AppleWebKit/537.36 (KHTML, like Gecko) Chrome/92.0.4515...</td><td>https://www.costcochoice.com/</td><td>false</td><td>322</td><td>javascript-sdk</td><td>4.5.1</td><td>2021-09-01</td><td>9300000009180</td></tr>\n",
       "<tr><td>21195ded-6881-495f-b191-5b259237f3b3</td><td>2021-08-31 20:39:13.307</td><td>2021-08-31 20:40:05.475</td><td>056976f2-84d1-43e6-b849-0b3d5ead57d3</td><td>-1337509197</td><td>8253175392</td><td>9300000009180</td><td>9300000009180</td><td>6555</td><td>[{20360686443, flow, custom, FLOW.SHORT}, {$opt_bot_filtering, $opt_bot_filtering, custom, false}...</td><td>24.234.62.0</td><td>Mozilla/5.0 (Windows NT 10.0; Win64; x64) AppleWebKit/537.36 (KHTML, like Gecko) Chrome/92.0.4515...</td><td>https://www.costcochoice.com/</td><td>false</td><td>322</td><td>javascript-sdk</td><td>4.5.1</td><td>2021-09-01</td><td>9300000009180</td></tr>\n",
       "<tr><td>dbb4f0c1-69a2-4719-a876-bd15e692d325</td><td>2021-08-31 20:39:13.318</td><td>2021-08-31 20:40:05.475</td><td>056976f2-84d1-43e6-b849-0b3d5ead57d3</td><td>-1337509197</td><td>8253175392</td><td>9300000009180</td><td>9300000009180</td><td>6555</td><td>[{20360686443, flow, custom, FLOW.SHORT}, {$opt_bot_filtering, $opt_bot_filtering, custom, false}...</td><td>24.234.62.0</td><td>Mozilla/5.0 (Windows NT 10.0; Win64; x64) AppleWebKit/537.36 (KHTML, like Gecko) Chrome/92.0.4515...</td><td>https://www.costcochoice.com/</td><td>false</td><td>322</td><td>javascript-sdk</td><td>4.5.1</td><td>2021-09-01</td><td>9300000009180</td></tr>\n",
       "<tr><td>b59fa208-a1aa-4277-837a-4f0c3bb785f9</td><td>2021-08-31 20:39:13.326</td><td>2021-08-31 20:40:05.475</td><td>056976f2-84d1-43e6-b849-0b3d5ead57d3</td><td>-1337509197</td><td>8253175392</td><td>9300000009180</td><td>9300000009180</td><td>6555</td><td>[{20360686443, flow, custom, FLOW.SHORT}, {$opt_bot_filtering, $opt_bot_filtering, custom, false}...</td><td>24.234.62.0</td><td>Mozilla/5.0 (Windows NT 10.0; Win64; x64) AppleWebKit/537.36 (KHTML, like Gecko) Chrome/92.0.4515...</td><td>https://www.costcochoice.com/</td><td>false</td><td>322</td><td>javascript-sdk</td><td>4.5.1</td><td>2021-09-01</td><td>9300000009180</td></tr>\n",
       "<tr><td>00fd1b55-1b03-4fce-b14b-df4419006ff9</td><td>2021-08-31 20:39:13.342</td><td>2021-08-31 20:40:05.475</td><td>056976f2-84d1-43e6-b849-0b3d5ead57d3</td><td>-1337509197</td><td>8253175392</td><td>9300000009180</td><td>9300000009180</td><td>6555</td><td>[{20360686443, flow, custom, FLOW.SHORT}, {$opt_bot_filtering, $opt_bot_filtering, custom, false}...</td><td>24.234.62.0</td><td>Mozilla/5.0 (Windows NT 10.0; Win64; x64) AppleWebKit/537.36 (KHTML, like Gecko) Chrome/92.0.4515...</td><td>https://www.costcochoice.com/</td><td>false</td><td>322</td><td>javascript-sdk</td><td>4.5.1</td><td>2021-09-01</td><td>9300000009180</td></tr>\n",
       "<tr><td>b3890ae0-a42b-45dc-9a12-d5b00bed5793</td><td>2021-08-31 20:39:13.354</td><td>2021-08-31 20:40:05.475</td><td>056976f2-84d1-43e6-b849-0b3d5ead57d3</td><td>-1337509197</td><td>8253175392</td><td>9300000009180</td><td>9300000009180</td><td>6555</td><td>[{20360686443, flow, custom, FLOW.SHORT}, {$opt_bot_filtering, $opt_bot_filtering, custom, false}...</td><td>24.234.62.0</td><td>Mozilla/5.0 (Windows NT 10.0; Win64; x64) AppleWebKit/537.36 (KHTML, like Gecko) Chrome/92.0.4515...</td><td>https://www.costcochoice.com/</td><td>false</td><td>322</td><td>javascript-sdk</td><td>4.5.1</td><td>2021-09-01</td><td>9300000009180</td></tr>\n",
       "</table>\n",
       "only showing top 20 rows\n"
      ],
      "text/plain": [
       "+------------------------------------+-----------------------+-----------------------+------------------------------------+-----------+----------+-------------+-------------+------------+----------------------------------------------------------------------------------------------------+-----------+----------------------------------------------------------------------------------------------------+-----------------------------+-----------+--------+--------------+--------------+----------+-------------+\n",
       "|                                uuid|              timestamp|      process_timestamp|                          visitor_id| session_id|account_id|  campaign_id|experiment_id|variation_id|                                                                                          attributes|    user_ip|                                                                                          user_agent|                      referer|is_holdback|revision| client_engine|client_version|      date|   experiment|\n",
       "+------------------------------------+-----------------------+-----------------------+------------------------------------+-----------+----------+-------------+-------------+------------+----------------------------------------------------------------------------------------------------+-----------+----------------------------------------------------------------------------------------------------+-----------------------------+-----------+--------+--------------+--------------+----------+-------------+\n",
       "|5be5dadf-4daa-45dd-8fb0-45009be70e48|2021-09-01 13:54:49.915|2021-09-01 13:55:20.336|02548cad-4fd3-4fe7-b65c-3c17f3f369ec|-1391194159|8253175392|9300000009180|9300000009180|        6555|[{20360686443, flow, custom, FLOW.SHORT}, {$opt_bot_filtering, $opt_bot_filtering, custom, false}...| 73.8.206.0|Mozilla/5.0 (Windows NT 10.0; Win64; x64) AppleWebKit/537.36 (KHTML, like Gecko) Chrome/92.0.4515...|https://www.costcochoice.com/|      false|     336|javascript-sdk|         4.5.1|2021-09-01|9300000009180|\n",
       "|f227c334-e984-41aa-a9a4-4747c4b7bd13|2021-08-31 20:38:41.855|2021-08-31 20:39:05.576|056976f2-84d1-43e6-b849-0b3d5ead57d3|-1337509197|8253175392|9300000009180|9300000009180|        6555|[{20360686443, flow, custom, FLOW.SHORT}, {$opt_bot_filtering, $opt_bot_filtering, custom, false}...|24.234.62.0|Mozilla/5.0 (Windows NT 10.0; Win64; x64) AppleWebKit/537.36 (KHTML, like Gecko) Chrome/92.0.4515...|https://www.costcochoice.com/|      false|     322|javascript-sdk|         4.5.1|2021-09-01|9300000009180|\n",
       "|7ea32f35-e724-427f-b31f-58296e8ae1d6|2021-08-31 20:39:09.537|2021-08-31 20:40:05.475|056976f2-84d1-43e6-b849-0b3d5ead57d3|-1337509197|8253175392|9300000009180|9300000009180|        6555|[{20360686443, flow, custom, FLOW.SHORT}, {$opt_bot_filtering, $opt_bot_filtering, custom, false}...|24.234.62.0|Mozilla/5.0 (Windows NT 10.0; Win64; x64) AppleWebKit/537.36 (KHTML, like Gecko) Chrome/92.0.4515...|https://www.costcochoice.com/|      false|     322|javascript-sdk|         4.5.1|2021-09-01|9300000009180|\n",
       "|ecdaed53-c59f-440b-8223-563503c625ad|2021-08-31 20:39:09.607|2021-08-31 20:40:05.475|056976f2-84d1-43e6-b849-0b3d5ead57d3|-1337509197|8253175392|9300000009180|9300000009180|        6555|[{20360686443, flow, custom, FLOW.SHORT}, {$opt_bot_filtering, $opt_bot_filtering, custom, false}...|24.234.62.0|Mozilla/5.0 (Windows NT 10.0; Win64; x64) AppleWebKit/537.36 (KHTML, like Gecko) Chrome/92.0.4515...|https://www.costcochoice.com/|      false|     322|javascript-sdk|         4.5.1|2021-09-01|9300000009180|\n",
       "|8da14434-1abb-4ada-98d8-34bf27232b1c|2021-08-31 20:39:09.634|2021-08-31 20:40:05.475|056976f2-84d1-43e6-b849-0b3d5ead57d3|-1337509197|8253175392|9300000009180|9300000009180|        6555|[{20360686443, flow, custom, FLOW.SHORT}, {$opt_bot_filtering, $opt_bot_filtering, custom, false}...|24.234.62.0|Mozilla/5.0 (Windows NT 10.0; Win64; x64) AppleWebKit/537.36 (KHTML, like Gecko) Chrome/92.0.4515...|https://www.costcochoice.com/|      false|     322|javascript-sdk|         4.5.1|2021-09-01|9300000009180|\n",
       "|c2c0cbf6-16ae-42e2-ad1c-e95f1079e447|2021-08-31 20:39:10.189|2021-08-31 20:40:05.475|056976f2-84d1-43e6-b849-0b3d5ead57d3|-1337509197|8253175392|9300000009180|9300000009180|        6555|[{20360686443, flow, custom, FLOW.SHORT}, {$opt_bot_filtering, $opt_bot_filtering, custom, false}...|24.234.62.0|Mozilla/5.0 (Windows NT 10.0; Win64; x64) AppleWebKit/537.36 (KHTML, like Gecko) Chrome/92.0.4515...|https://www.costcochoice.com/|      false|     322|javascript-sdk|         4.5.1|2021-09-01|9300000009180|\n",
       "|fe0eb371-8e94-4f80-9dac-93d7ac4584b8|2021-08-31 20:39:10.202|2021-08-31 20:40:05.475|056976f2-84d1-43e6-b849-0b3d5ead57d3|-1337509197|8253175392|9300000009180|9300000009180|        6555|[{20360686443, flow, custom, FLOW.SHORT}, {$opt_bot_filtering, $opt_bot_filtering, custom, false}...|24.234.62.0|Mozilla/5.0 (Windows NT 10.0; Win64; x64) AppleWebKit/537.36 (KHTML, like Gecko) Chrome/92.0.4515...|https://www.costcochoice.com/|      false|     322|javascript-sdk|         4.5.1|2021-09-01|9300000009180|\n",
       "|569d8914-f8bb-461f-95ae-f26a3da02d8e|2021-08-31 20:39:11.598|2021-08-31 20:40:05.475|056976f2-84d1-43e6-b849-0b3d5ead57d3|-1337509197|8253175392|9300000009180|9300000009180|        6555|[{20360686443, flow, custom, FLOW.SHORT}, {$opt_bot_filtering, $opt_bot_filtering, custom, false}...|24.234.62.0|Mozilla/5.0 (Windows NT 10.0; Win64; x64) AppleWebKit/537.36 (KHTML, like Gecko) Chrome/92.0.4515...|https://www.costcochoice.com/|      false|     322|javascript-sdk|         4.5.1|2021-09-01|9300000009180|\n",
       "|6f690924-dafd-460f-b823-deecb87ac8f9|2021-08-31 20:39:11.608|2021-08-31 20:40:05.475|056976f2-84d1-43e6-b849-0b3d5ead57d3|-1337509197|8253175392|9300000009180|9300000009180|        6555|[{20360686443, flow, custom, FLOW.SHORT}, {$opt_bot_filtering, $opt_bot_filtering, custom, false}...|24.234.62.0|Mozilla/5.0 (Windows NT 10.0; Win64; x64) AppleWebKit/537.36 (KHTML, like Gecko) Chrome/92.0.4515...|https://www.costcochoice.com/|      false|     322|javascript-sdk|         4.5.1|2021-09-01|9300000009180|\n",
       "|a1e7217f-32a5-4eed-841f-3e5a9d7ea686|2021-08-31 20:39:12.606|2021-08-31 20:40:05.475|056976f2-84d1-43e6-b849-0b3d5ead57d3|-1337509197|8253175392|9300000009180|9300000009180|        6555|[{20360686443, flow, custom, FLOW.SHORT}, {$opt_bot_filtering, $opt_bot_filtering, custom, false}...|24.234.62.0|Mozilla/5.0 (Windows NT 10.0; Win64; x64) AppleWebKit/537.36 (KHTML, like Gecko) Chrome/92.0.4515...|https://www.costcochoice.com/|      false|     322|javascript-sdk|         4.5.1|2021-09-01|9300000009180|\n",
       "|0c904dca-b53a-49aa-8932-ef57ce3511c0|2021-08-31 20:39:12.612|2021-08-31 20:40:05.475|056976f2-84d1-43e6-b849-0b3d5ead57d3|-1337509197|8253175392|9300000009180|9300000009180|        6555|[{20360686443, flow, custom, FLOW.SHORT}, {$opt_bot_filtering, $opt_bot_filtering, custom, false}...|24.234.62.0|Mozilla/5.0 (Windows NT 10.0; Win64; x64) AppleWebKit/537.36 (KHTML, like Gecko) Chrome/92.0.4515...|https://www.costcochoice.com/|      false|     322|javascript-sdk|         4.5.1|2021-09-01|9300000009180|\n",
       "|1196782b-67aa-44f2-9bb2-8d04b3f56b4a|2021-08-31 20:39:12.616|2021-08-31 20:40:05.475|056976f2-84d1-43e6-b849-0b3d5ead57d3|-1337509197|8253175392|9300000009180|9300000009180|        6555|[{20360686443, flow, custom, FLOW.SHORT}, {$opt_bot_filtering, $opt_bot_filtering, custom, false}...|24.234.62.0|Mozilla/5.0 (Windows NT 10.0; Win64; x64) AppleWebKit/537.36 (KHTML, like Gecko) Chrome/92.0.4515...|https://www.costcochoice.com/|      false|     322|javascript-sdk|         4.5.1|2021-09-01|9300000009180|\n",
       "|fac98370-7b52-4770-8f77-4615a71b47b3|2021-08-31 20:39:12.626|2021-08-31 20:40:05.475|056976f2-84d1-43e6-b849-0b3d5ead57d3|-1337509197|8253175392|9300000009180|9300000009180|        6555|[{20360686443, flow, custom, FLOW.SHORT}, {$opt_bot_filtering, $opt_bot_filtering, custom, false}...|24.234.62.0|Mozilla/5.0 (Windows NT 10.0; Win64; x64) AppleWebKit/537.36 (KHTML, like Gecko) Chrome/92.0.4515...|https://www.costcochoice.com/|      false|     322|javascript-sdk|         4.5.1|2021-09-01|9300000009180|\n",
       "|81856044-d886-4b98-86d7-2860794bd686|2021-08-31 20:39:13.289|2021-08-31 20:40:05.475|056976f2-84d1-43e6-b849-0b3d5ead57d3|-1337509197|8253175392|9300000009180|9300000009180|        6555|[{20360686443, flow, custom, FLOW.SHORT}, {$opt_bot_filtering, $opt_bot_filtering, custom, false}...|24.234.62.0|Mozilla/5.0 (Windows NT 10.0; Win64; x64) AppleWebKit/537.36 (KHTML, like Gecko) Chrome/92.0.4515...|https://www.costcochoice.com/|      false|     322|javascript-sdk|         4.5.1|2021-09-01|9300000009180|\n",
       "|af7cc958-cd25-4266-adcb-5cddbf644218|2021-08-31 20:39:13.298|2021-08-31 20:40:05.475|056976f2-84d1-43e6-b849-0b3d5ead57d3|-1337509197|8253175392|9300000009180|9300000009180|        6555|[{20360686443, flow, custom, FLOW.SHORT}, {$opt_bot_filtering, $opt_bot_filtering, custom, false}...|24.234.62.0|Mozilla/5.0 (Windows NT 10.0; Win64; x64) AppleWebKit/537.36 (KHTML, like Gecko) Chrome/92.0.4515...|https://www.costcochoice.com/|      false|     322|javascript-sdk|         4.5.1|2021-09-01|9300000009180|\n",
       "|21195ded-6881-495f-b191-5b259237f3b3|2021-08-31 20:39:13.307|2021-08-31 20:40:05.475|056976f2-84d1-43e6-b849-0b3d5ead57d3|-1337509197|8253175392|9300000009180|9300000009180|        6555|[{20360686443, flow, custom, FLOW.SHORT}, {$opt_bot_filtering, $opt_bot_filtering, custom, false}...|24.234.62.0|Mozilla/5.0 (Windows NT 10.0; Win64; x64) AppleWebKit/537.36 (KHTML, like Gecko) Chrome/92.0.4515...|https://www.costcochoice.com/|      false|     322|javascript-sdk|         4.5.1|2021-09-01|9300000009180|\n",
       "|dbb4f0c1-69a2-4719-a876-bd15e692d325|2021-08-31 20:39:13.318|2021-08-31 20:40:05.475|056976f2-84d1-43e6-b849-0b3d5ead57d3|-1337509197|8253175392|9300000009180|9300000009180|        6555|[{20360686443, flow, custom, FLOW.SHORT}, {$opt_bot_filtering, $opt_bot_filtering, custom, false}...|24.234.62.0|Mozilla/5.0 (Windows NT 10.0; Win64; x64) AppleWebKit/537.36 (KHTML, like Gecko) Chrome/92.0.4515...|https://www.costcochoice.com/|      false|     322|javascript-sdk|         4.5.1|2021-09-01|9300000009180|\n",
       "|b59fa208-a1aa-4277-837a-4f0c3bb785f9|2021-08-31 20:39:13.326|2021-08-31 20:40:05.475|056976f2-84d1-43e6-b849-0b3d5ead57d3|-1337509197|8253175392|9300000009180|9300000009180|        6555|[{20360686443, flow, custom, FLOW.SHORT}, {$opt_bot_filtering, $opt_bot_filtering, custom, false}...|24.234.62.0|Mozilla/5.0 (Windows NT 10.0; Win64; x64) AppleWebKit/537.36 (KHTML, like Gecko) Chrome/92.0.4515...|https://www.costcochoice.com/|      false|     322|javascript-sdk|         4.5.1|2021-09-01|9300000009180|\n",
       "|00fd1b55-1b03-4fce-b14b-df4419006ff9|2021-08-31 20:39:13.342|2021-08-31 20:40:05.475|056976f2-84d1-43e6-b849-0b3d5ead57d3|-1337509197|8253175392|9300000009180|9300000009180|        6555|[{20360686443, flow, custom, FLOW.SHORT}, {$opt_bot_filtering, $opt_bot_filtering, custom, false}...|24.234.62.0|Mozilla/5.0 (Windows NT 10.0; Win64; x64) AppleWebKit/537.36 (KHTML, like Gecko) Chrome/92.0.4515...|https://www.costcochoice.com/|      false|     322|javascript-sdk|         4.5.1|2021-09-01|9300000009180|\n",
       "|b3890ae0-a42b-45dc-9a12-d5b00bed5793|2021-08-31 20:39:13.354|2021-08-31 20:40:05.475|056976f2-84d1-43e6-b849-0b3d5ead57d3|-1337509197|8253175392|9300000009180|9300000009180|        6555|[{20360686443, flow, custom, FLOW.SHORT}, {$opt_bot_filtering, $opt_bot_filtering, custom, false}...|24.234.62.0|Mozilla/5.0 (Windows NT 10.0; Win64; x64) AppleWebKit/537.36 (KHTML, like Gecko) Chrome/92.0.4515...|https://www.costcochoice.com/|      false|     322|javascript-sdk|         4.5.1|2021-09-01|9300000009180|\n",
       "+------------------------------------+-----------------------+-----------------------+------------------------------------+-----------+----------+-------------+-------------+------------+----------------------------------------------------------------------------------------------------+-----------+----------------------------------------------------------------------------------------------------+-----------------------------+-----------+--------+--------------+--------------+----------+-------------+\n",
       "only showing top 20 rows"
      ]
     },
     "execution_count": 16,
     "metadata": {},
     "output_type": "execute_result"
    }
   ],
   "source": [
    "spark.sql(\"\"\"\n",
    "    SELECT\n",
    "        *\n",
    "    FROM decisions\n",
    "\"\"\")"
   ]
  },
  {
   "cell_type": "markdown",
   "metadata": {},
   "source": [
    "## Converting to CSV file"
   ]
  },
  {
   "cell_type": "code",
   "execution_count": 2,
   "metadata": {},
   "outputs": [],
   "source": [
    "conf = pyspark.SparkConf()\n",
    "conf = (conf.setMaster('local[*]')\n",
    "        .set('spark.executor.memory', '4G')\n",
    "        .set('spark.driver.memory', '45G')\n",
    "        .set('spark.driver.maxResultSize', '10G'))\n",
    "\n",
    "sc = pyspark.SparkContext.getOrCreate(conf=conf)\n",
    "sqlcontext = pyspark.SQLContext(sc)"
   ]
  },
  {
   "cell_type": "code",
   "execution_count": 6,
   "metadata": {},
   "outputs": [],
   "source": [
    "def return_e3_dataframe(data_type=\"events\"):\n",
    "    \"\"\"Input some info here\"\"\"\n",
    "    data_type = \"/type=events\" if data_type == \"events\" else \"/type=decisions\"\n",
    "    dataframes = []\n",
    "    for x in os.walk(output_dir + data_type):\n",
    "        for i in x:\n",
    "            if type(i) is list:\n",
    "                for j in i:\n",
    "                    if str.endswith(j,'parquet'):\n",
    "                        print(x[0] + '/' + j)\n",
    "                        pf = sqlcontext.read.parquet(x[0] + '/' + j)\n",
    "                        df = pf.toPandas()\n",
    "                        dataframes.append(df)\n",
    "                        df = None\n",
    "                        pf = None\n",
    "    pdf = pd.concat(dataframes)\n",
    "    test_data = pdf if data_type=='/type=decisions' else pdf[pdf.experiments.apply(lambda tuple_list: any(check in experiment_list for check in [x.experiment_id for x in tuple_list if x.is_holdback==False]))]\n",
    "    return test_data"
   ]
  },
  {
   "cell_type": "markdown",
   "metadata": {},
   "source": [
    "Enriched Event data is partitioned into two distinct datasets: [decisions](https://docs.developers.optimizely.com/optimizely-data/docs/enriched-events-data-specification#decisions-2) and [conversions](https://docs.developers.optimizely.com/optimizely-data/docs/enriched-events-data-specification#conversions-2).\n",
    "\n",
    "We'll load decision data from the `type=decisions` directory in the base data directory."
   ]
  },
  {
   "cell_type": "code",
   "execution_count": 21,
   "metadata": {
    "scrolled": false
   },
   "outputs": [
    {
     "name": "stdout",
     "output_type": "stream",
     "text": [
      "/Users/rsaunders/code/jupyter/my_work/autoShortForm/type=decisions/date=2021-09-01/experiment=9300000009180/part-00000-bb25b682-cf7a-4123-98e3-242968c501bf.c000.snappy.parquet\n",
      "/Users/rsaunders/code/jupyter/my_work/autoShortForm/type=decisions/date=2021-08-30/experiment=9300000009180/part-00000-eb4b675f-d611-4d71-b72c-a5e2c64f8a32.c000.snappy.parquet\n",
      "/Users/rsaunders/code/jupyter/my_work/autoShortForm/type=decisions/date=2021-08-31/experiment=9300000009180/part-00000-da977cfc-0f0e-434d-9095-804d601c6b11.c000.snappy.parquet\n",
      "/Users/rsaunders/code/jupyter/my_work/autoShortForm/type=decisions/date=2021-08-28/experiment=9300000009180/part-00000-fb06b3f9-7a03-42cd-a2a6-f2e44fa22492.c000.snappy.parquet\n",
      "/Users/rsaunders/code/jupyter/my_work/autoShortForm/type=decisions/date=2021-08-26/experiment=9300000009180/part-00000-8e85bc34-5b13-498f-9efa-0627f70743eb.c000.snappy.parquet\n",
      "/Users/rsaunders/code/jupyter/my_work/autoShortForm/type=decisions/date=2021-08-27/experiment=9300000009180/part-00000-0b4f20eb-c91d-4e24-a511-34b5d9e881b7.c000.snappy.parquet\n",
      "/Users/rsaunders/code/jupyter/my_work/autoShortForm/type=decisions/date=2021-08-29/experiment=9300000009180/part-00000-8bd43b25-505a-47fb-91f4-ad32181c3fd0.c000.snappy.parquet\n"
     ]
    }
   ],
   "source": [
    "#events_df = return_e3_dataframe()\n",
    "decisions_df = return_e3_dataframe(data_type='decisions')\n",
    "\n",
    "#events_df.to_csv('autoShortForm_events.csv')\n",
    "decisions_df.to_csv('autoShortForm_decisions.csv')\n"
   ]
  },
  {
   "cell_type": "code",
   "execution_count": 9,
   "metadata": {},
   "outputs": [
    {
     "data": {
      "text/html": [
       "<table border='1'>\n",
       "<tr><th>experiment_id</th><th>variation_id</th><th>Auto Short Form, iPhone Unique visitors</th></tr>\n",
       "<tr><td>9300000009180</td><td>6555</td><td>2</td></tr>\n",
       "</table>\n"
      ],
      "text/plain": [
       "+-------------+------------+---------------------------------------+\n",
       "|experiment_id|variation_id|Auto Short Form, iPhone Unique visitors|\n",
       "+-------------+------------+---------------------------------------+\n",
       "|9300000009180|        6555|                                      2|\n",
       "+-------------+------------+---------------------------------------+"
      ]
     },
     "execution_count": 9,
     "metadata": {},
     "output_type": "execute_result"
    }
   ],
   "source": [
    "spark.sql(\"\"\"\n",
    "    SELECT\n",
    "        experiment_id,\n",
    "        variation_id,\n",
    "        COUNT(distinct visitor_id) as `Auto Short Form, iPhone Unique visitors`\n",
    "    FROM decisions\n",
    "    WHERE \n",
    "        user_agent like '%iPhone%'\n",
    "    GROUP BY\n",
    "        experiment_id,\n",
    "        variation_id\n",
    "\"\"\")"
   ]
  },
  {
   "cell_type": "code",
   "execution_count": 10,
   "metadata": {},
   "outputs": [
    {
     "data": {
      "text/html": [
       "<table border='1'>\n",
       "<tr><th>experiment_id</th><th>variation_id</th><th>Auto Short Form, Android Unique visitors</th></tr>\n",
       "<tr><td>9300000009180</td><td>6555</td><td>27</td></tr>\n",
       "</table>\n"
      ],
      "text/plain": [
       "+-------------+------------+----------------------------------------+\n",
       "|experiment_id|variation_id|Auto Short Form, Android Unique visitors|\n",
       "+-------------+------------+----------------------------------------+\n",
       "|9300000009180|        6555|                                      27|\n",
       "+-------------+------------+----------------------------------------+"
      ]
     },
     "execution_count": 10,
     "metadata": {},
     "output_type": "execute_result"
    }
   ],
   "source": [
    "spark.sql(\"\"\"\n",
    "    SELECT\n",
    "        experiment_id,\n",
    "        variation_id,\n",
    "        COUNT(distinct visitor_id) as `Auto Short Form, Android Unique visitors`\n",
    "    FROM decisions\n",
    "    WHERE \n",
    "        user_agent like '%Android%'\n",
    "    GROUP BY\n",
    "        experiment_id,\n",
    "        variation_id\n",
    "\"\"\")"
   ]
  }
 ],
 "metadata": {
  "kernelspec": {
   "display_name": "Python 3 (ipykernel)",
   "language": "python",
   "name": "python3"
  },
  "language_info": {
   "codemirror_mode": {
    "name": "ipython",
    "version": 3
   },
   "file_extension": ".py",
   "mimetype": "text/x-python",
   "name": "python",
   "nbconvert_exporter": "python",
   "pygments_lexer": "ipython3",
   "version": "3.9.5"
  }
 },
 "nbformat": 4,
 "nbformat_minor": 4
}
